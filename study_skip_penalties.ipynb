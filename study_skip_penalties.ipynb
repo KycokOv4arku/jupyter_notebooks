{
 "cells": [
  {
   "cell_type": "markdown",
   "metadata": {},
   "source": [
    "# Cost of skipping a learning day\n",
    "\n",
    "I fine myself when I skip studying. Started this on [Feb 2, 2024](https://t.me/dkstkn/277) on Telegram.\n",
    "\n",
    "With 30 subscribers and a goal of 150 mins/day:\n",
    "- 300₽ for first skip in a month\n",
    "- 600₽ for second skip\n",
    "- etc.\n",
    "\n",
    "Records stored in JSON file."
   ]
  },
  {
   "cell_type": "code",
   "execution_count": 255,
   "metadata": {},
   "outputs": [],
   "source": [
    "from datetime import datetime\n",
    "import json\n",
    "from pathlib import Path\n",
    "\n",
    "\n",
    "def calculate_penalty(subscribers, target, days_under_target, min_learned, base_rate=10):\n",
    "    \"\"\"Calculate penalty based on learning metrics and subscriber count.\"\"\"\n",
    "    return base_rate * subscribers * days_under_target * (1 - min_learned / target)\n",
    "\n",
    "\n",
    "def add_penalty(\n",
    "    penalties_dict, amount, subscribers, target, days_under_target, min_learned\n",
    "):\n",
    "    \"\"\"Record a new penalty with today's date.\"\"\"\n",
    "    today = datetime.now().strftime(\"%Y-%m-%d\")\n",
    "    penalties_dict[today] = {\n",
    "        \"amount\": amount,\n",
    "        \"subscribers\": subscribers,\n",
    "        \"target\": target,\n",
    "        \"days_under_target\": days_under_target,\n",
    "        \"min_learned\": min_learned,\n",
    "    }\n",
    "    return today\n",
    "\n",
    "\n",
    "def get_total_penalties(penalties_dict):\n",
    "    \"\"\"Sum all penalty amounts.\"\"\"\n",
    "    return sum(entry[\"amount\"] for entry in penalties_dict.values())\n",
    "\n",
    "\n",
    "def save_penalties(penalties_dict, filename=\"study_skip_penalties.json\"):\n",
    "    \"\"\"Save penalties dictionary to a JSON file.\"\"\"\n",
    "    with open(filename, \"w\", encoding=\"utf-8\") as f:\n",
    "        json.dump(penalties_dict, f, indent=2, ensure_ascii=False)\n",
    "    print(f\"Record saved to {filename}\")\n",
    "\n",
    "\n",
    "def load_penalties(filename=\"study_skip_penalties.json\"):\n",
    "    \"\"\"Load penalties dictionary from a JSON file.\"\"\"\n",
    "    file_path = Path(filename)\n",
    "    if file_path.exists():\n",
    "        with open(file_path, \"r\", encoding=\"utf-8\") as f:\n",
    "            return json.load(f)\n",
    "    else:\n",
    "        return {}"
   ]
  },
  {
   "cell_type": "code",
   "execution_count": 256,
   "metadata": {},
   "outputs": [],
   "source": [
    "# current values. Update these variables to calculate current penalty\n",
    "current_subs = 30\n",
    "current_target = 150\n",
    "days_under_target = 0  # Set to 0 if no penalty, or 1, 2, etc. for penalty coefficient\n",
    "min_learned = 0  # How many minutes you actually studied"
   ]
  },
  {
   "cell_type": "code",
   "execution_count": 257,
   "metadata": {},
   "outputs": [
    {
     "name": "stdout",
     "output_type": "stream",
     "text": [
      "Previous 4 values loaded.\n"
     ]
    }
   ],
   "source": [
    "# Load previous penalties\n",
    "file_path = Path(\"study_skip_penalties.json\")\n",
    "if file_path.exists():\n",
    "    unspent_penalties = load_penalties()\n",
    "    print(f\"Previous {len(unspent_penalties)} values loaded.\")\n",
    "else:\n",
    "    # Initialize with empty dictionary if file doesn't exist\n",
    "    unspent_penalties = {}\n",
    "    print(\"No previous penalties found. Starting with empty record.\")"
   ]
  },
  {
   "cell_type": "code",
   "execution_count": 258,
   "metadata": {},
   "outputs": [
    {
     "name": "stdout",
     "output_type": "stream",
     "text": [
      "\n",
      "Previous records:\n",
      "2025-02-06: -160 ₽ (16 subscribers, target: 120)\n",
      "2025-03-02: -160 ₽ (16 subscribers, target: 150)\n",
      "2025-03-27: -580 ₽ (29 subscribers, target: 150)\n",
      "2025-04-07: -300 ₽ (30 subscribers, target: 150)\n",
      "\n",
      "Today's record: \n",
      "No penalty. Learned more than 150 minutes.\n"
     ]
    }
   ],
   "source": [
    "# Calculate and possibly add today's penalty\n",
    "today = datetime.now().strftime(\"%Y-%m-%d\")\n",
    "if days_under_target > 0:\n",
    "    # calculate and record new penalty\n",
    "    skip_cost = calculate_penalty(\n",
    "        current_subs, current_target, days_under_target, min_learned\n",
    "    )\n",
    "    add_penalty(\n",
    "        unspent_penalties,\n",
    "        skip_cost,\n",
    "        current_subs,\n",
    "        current_target,\n",
    "        days_under_target,\n",
    "        min_learned,\n",
    "    )\n",
    "    today_message = f\"\\n{today}: -{skip_cost:.0f} ₽ ({current_subs} subscribers, target: {current_target})\"\n",
    "    # Save the updated records\n",
    "    save_penalties(unspent_penalties)\n",
    "\n",
    "else:\n",
    "\n",
    "    today_message = f\"\\nNo penalty. Learned more than {current_target} minutes.\"\n",
    "\n",
    "# Now display all records in order\n",
    "print(\"\\nPrevious records:\")\n",
    "for date, info in sorted(unspent_penalties.items()):\n",
    "    if date != today:  # Don't show today's record yet\n",
    "        print(\n",
    "            f\"{date}: -{info['amount']:.0f} ₽ ({info['subscribers']} subscribers, target: {info['target']})\"\n",
    "        )\n",
    "\n",
    "# Display today's record\n",
    "print(f\"\\nToday's record: {today_message}\")\n",
    "\n",
    "# Get total for statistics\n",
    "total_unspent_penalty = get_total_penalties(unspent_penalties)"
   ]
  },
  {
   "cell_type": "code",
   "execution_count": 259,
   "metadata": {},
   "outputs": [
    {
     "name": "stdout",
     "output_type": "stream",
     "text": [
      "\n",
      "Learning statistics:\n",
      "\n",
      "Tracking period: 64 days. From 2025-02-06 to 2025-04-10\n",
      "Days missed: 4\n",
      "Consistency rate: 93.8%\n",
      "Total unpaid penalties: -1200₽\n"
     ]
    }
   ],
   "source": [
    "# Calculate statistics\n",
    "dates = sorted(unspent_penalties.keys())\n",
    "if dates:\n",
    "    first_date = datetime.strptime(dates[0], \"%Y-%m-%d\").date()\n",
    "    today = datetime.now().date()\n",
    "    total_days = (today - first_date).days + 1  # +1 to include the first day\n",
    "\n",
    "    missed_days = sum(1 for entry in unspent_penalties.values() if entry[\"amount\"] > 0)\n",
    "    consistency = ((total_days - missed_days) / total_days) * 100\n",
    "\n",
    "    print(\"\\nLearning statistics:\\n\")\n",
    "    print(f\"Tracking period: {total_days} days. From {first_date} to {today}\")\n",
    "    print(f\"Days missed: {missed_days}\")\n",
    "    print(f\"Consistency rate: {consistency:.1f}%\")\n",
    "    print(f\"Total unpaid penalties: -{total_unspent_penalty:.0f}₽\")"
   ]
  }
 ],
 "metadata": {
  "kernelspec": {
   "display_name": "Python 3",
   "language": "python",
   "name": "python3"
  },
  "language_info": {
   "codemirror_mode": {
    "name": "ipython",
    "version": 3
   },
   "file_extension": ".py",
   "mimetype": "text/x-python",
   "name": "python",
   "nbconvert_exporter": "python",
   "pygments_lexer": "ipython3",
   "version": "3.12.8"
  }
 },
 "nbformat": 4,
 "nbformat_minor": 2
}
