{
 "cells": [
  {
   "cell_type": "markdown",
   "metadata": {},
   "source": [
    "# Probability Simulation - 3Blue1Brown Episode \n",
    "\n",
    "Solving the first question from 3b1b's [last lecture (03:30)][^1]  \n",
    "\n",
    "If x,y are random on [0,1], what's the probability ⌊x/y⌋ is even?\n",
    "\n",
    "Comparing basic Python vs numpy approach for speed.\n",
    "\n",
    "[^1]: https://www.youtube.com/watch?v=QvuQH4_05LI&list=PLZHQObOWTQDP5CVelJJ1bNDouqrAhVPev&index=12&t=210s\n",
    "\n"
   ]
  },
  {
   "cell_type": "code",
   "execution_count": 8,
   "metadata": {},
   "outputs": [],
   "source": [
    "from timeit import timeit\n",
    "\n",
    "import matplotlib.pyplot as plt\n",
    "import numpy as np"
   ]
  },
  {
   "cell_type": "code",
   "execution_count": 9,
   "metadata": {},
   "outputs": [],
   "source": [
    "def stupid_slow(size) -> float:\n",
    "    \"\"\"x, y chosen at random from uniform distribution of range[0, 1]\n",
    "    find probability of rounded down ratio x over y to be an even num\n",
    "    \"\"\"\n",
    "    even_count = 0\n",
    "    for _ in range(size):\n",
    "        numerator = np.random.random()\n",
    "        denominator = np.random.random()\n",
    "        if not numerator // denominator % 2:\n",
    "            even_count += 1\n",
    "    return even_count / size"
   ]
  },
  {
   "cell_type": "code",
   "execution_count": 10,
   "metadata": {},
   "outputs": [],
   "source": [
    "def np_saves_ass(size) -> float:\n",
    "    \"\"\"same but fully with numpy\"\"\"\n",
    "    ratios = np.floor(np.random.random(size) / np.random.random(size))\n",
    "    even_count = (ratios % 2 == 0).mean()\n",
    "    return even_count"
   ]
  },
  {
   "cell_type": "code",
   "execution_count": 11,
   "metadata": {},
   "outputs": [],
   "source": [
    "loops = 10  # how many times to run. 100 may take 2-5min.\n",
    "size = 10**6  # array size"
   ]
  },
  {
   "cell_type": "code",
   "execution_count": 12,
   "metadata": {},
   "outputs": [],
   "source": [
    "stupid_time = timeit(\"stupid_slow(size)\", number=loops, globals=globals())\n",
    "np_time = timeit(\"np_saves_ass(size)\", number=loops, globals=globals())"
   ]
  },
  {
   "cell_type": "code",
   "execution_count": 13,
   "metadata": {},
   "outputs": [
    {
     "name": "stdout",
     "output_type": "stream",
     "text": [
      "stupid_slow()  takes on average: 0.989 sec\n",
      "np_saves_ass() takes on average: 0.037 sec\n",
      "numpy ~26 times faster ;)\n"
     ]
    }
   ],
   "source": [
    "print(f\"stupid_slow()  takes on average: {stupid_time/loops:.3f} sec\")\n",
    "print(f\"np_saves_ass() takes on average: {np_time/loops:.3f} sec\")\n",
    "print(f\"numpy ~{stupid_time//np_time:n} times faster ;)\")"
   ]
  },
  {
   "cell_type": "code",
   "execution_count": 14,
   "metadata": {},
   "outputs": [
    {
     "data": {
      "image/png": "[encoded data removed]",
      "text/plain": [
       "<Figure size 640x480 with 1 Axes>"
      ]
     },
     "metadata": {},
     "output_type": "display_data"
    }
   ],
   "source": [
    "# another question from the video. not related to measuring speeds\n",
    "\n",
    "ratios = np.floor(np.random.random(size) / np.random.random(size))\n",
    "plt.hist(ratios, range=(0, 20), bins=20, rwidth=0.9, align=\"left\", density=True)\n",
    "plt.xticks(np.arange(0, 21, 1))\n",
    "plt.title(\"rounded down ratio from uniform distribution\")\n",
    "plt.xlabel(\"x over y rounds down to\")\n",
    "plt.ylabel(\"probaility\")\n",
    "plt.show()"
   ]
  }
 ],
 "metadata": {
  "kernelspec": {
   "display_name": "Python 3",
   "language": "python",
   "name": "python3"
  },
  "language_info": {
   "codemirror_mode": {
    "name": "ipython",
    "version": 3
   },
   "file_extension": ".py",
   "mimetype": "text/x-python",
   "name": "python",
   "nbconvert_exporter": "python",
   "pygments_lexer": "ipython3",
   "version": "3.12.8"
  }
 },
 "nbformat": 4,
 "nbformat_minor": 2
}
