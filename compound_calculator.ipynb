{
 "cells": [
  {
   "cell_type": "markdown",
   "metadata": {},
   "source": [
    "# Compound Interest Calculator\n",
    "\n",
    "Quick tool to see how my investments grow over time.  \n",
    "Shows results with and without regular contributions."
   ]
  },
  {
   "cell_type": "code",
   "execution_count": null,
   "metadata": {},
   "outputs": [],
   "source": [
    "# variables\n",
    "rate = 0.15  # yearly interest (%)\n",
    "years = 10  # investment period\n",
    "periods = 12  # compounding frequency (yearly=1, monthly=12, daily=365)\n",
    "principal = 200_000  #  starting amount\n",
    "PMT = 200_000  # regular contribution per period"
   ]
  },
  {
   "cell_type": "code",
   "execution_count": 38,
   "metadata": {},
   "outputs": [],
   "source": [
    "base_growth = (1 + rate / periods) ** (periods * years)\n",
    "total_no_PMT = principal * base_growth\n",
    "total_with_PMT = total_no_PMT + ((periods * PMT) * (base_growth - 1)) / rate\n",
    "deposit_sum = principal + PMT * periods * years"
   ]
  },
  {
   "cell_type": "code",
   "execution_count": null,
   "metadata": {},
   "outputs": [
    {
     "name": "stdout",
     "output_type": "stream",
     "text": [
      "Initial deposit                    200,000\n",
      "Total Deposits                     200,000\n",
      "Interest earned in 10 years       +688,043\n",
      "Future investment value            888,043\n",
      "\n",
      "Initial deposit                    200,000\n",
      "Contributions per month            200,000\n",
      "Total Deposits                  24,200,000\n",
      "Interest earned in 10 years    +31,731,454\n",
      "Future investment value         55,931,454\n",
      "\n"
     ]
    }
   ],
   "source": [
    "print(f\"{'Initial deposit':<30}{principal:>12,.0f}\")\n",
    "print(f\"{'Total Deposits':<30}{principal:>12,.0f}\")\n",
    "print(f\"{f'Interest earned in {years} years':<30}{total_no_PMT-principal:>+12,.0f}\")\n",
    "print(f\"{'Future investment value':<30}{total_no_PMT:>12,.0f}\\n\")\n",
    "\n",
    "print(f\"{'Initial deposit':<30}{principal:>12,.0f}\")\n",
    "print(f\"{'Contributions per month':<30}{PMT:>12,.0f}\")\n",
    "print(f\"{'Total Deposits':<30}{deposit_sum:>12,.0f}\")\n",
    "print(f\"{f'Interest earned in {years} years':<30}{total_with_PMT - deposit_sum:>+12,.0f}\")\n",
    "print(f\"{'Future investment value':<30}{total_with_PMT:>12,.0f}\\n\")"
   ]
  }
 ],
 "metadata": {
  "kernelspec": {
   "display_name": "Python 3",
   "language": "python",
   "name": "python3"
  },
  "language_info": {
   "codemirror_mode": {
    "name": "ipython",
    "version": 3
   },
   "file_extension": ".py",
   "mimetype": "text/x-python",
   "name": "python",
   "nbconvert_exporter": "python",
   "pygments_lexer": "ipython3",
   "version": "3.12.8"
  }
 },
 "nbformat": 4,
 "nbformat_minor": 2
}
